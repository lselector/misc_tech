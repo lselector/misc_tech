{
 "cells": [
  {
   "cell_type": "markdown",
   "metadata": {},
   "source": [
    "### check domain and trademark\n",
    "\n",
    "<br>=================================================<br>\n",
    "https://pypi.org/project/cleanco/\n",
    "<br>    cleanco · PyPI\n",
    "<br>=================================================<br>\n",
    "https://medium.com/@asnim/simple-domain-name-availability-checker-using-python-caccf66c9b83\n",
    "<br>    Simple Domain Name Availability Checking Using Python | by Asnim | Medium\n",
    "<br>=================================================<br>\n",
    "http://tmsearch.uspto.gov/bin/gate.exe?f=searchss&state=4808:pgkiqv.1.1\n",
    "<br>    Trademark Electronic Search System (TESS)\n",
    "<br>=================================================<br>\n",
    "https://www.thepythoncode.com/article/extracting-domain-name-information-in-python\n",
    "<br>    How to Get Domain Name Information in Python - Python Code\n",
    "<br>=================================================<br>\n",
    "https://github.com/TristanPerry/domain-name-generator\n",
    "<br>    TristanPerry/domain-name-generator: A simple Python command line domain name generator\n",
    "<br>=================================================<br>\n",
    "https://pypi.org/project/uspto-opendata-python/\n",
    "<br>    uspto-opendata-python · PyPI\n",
    "<br>=================================================<br>\n",
    "https://github.com/bregenspan/tess-search\n",
    "<br>    Node library/CLI to query the TESS trademark search engine\n",
    "<br>=================================================<br>\n",
    "https://pypi.org/project/pypatent/\n",
    "<br>    pypatent · PyPI\n",
    "<br>=================================================<br>\n",
    "https://news.ycombinator.com/item?id=14173534\n",
    "<br>    The USPTO databases have to be one of the most torturous services to their users... | Hacker News\n",
    "<br>=================================================<br>\n",
    "https://developer.uspto.gov/api-catalog/tsdr-data-api\n",
    "<br>    TSDR Data API | United States Patent and Trademark Office - Open Data Portal\n",
    "<br>=================================================<br>"
   ]
  },
  {
   "cell_type": "code",
   "execution_count": 3,
   "metadata": {},
   "outputs": [],
   "source": [
    "import os,sys\n",
    "import whois # pip3 install python-whois"
   ]
  },
  {
   "cell_type": "code",
   "execution_count": 4,
   "metadata": {},
   "outputs": [],
   "source": [
    "# https://www.thepythoncode.com/article/extracting-domain-name-information-in-python\n",
    "def is_registered(domain_name):\n",
    "    \"\"\"\n",
    "    # A function that returns a boolean indicating \n",
    "    # whether a domain_name is registered\n",
    "    \"\"\"\n",
    "    try:\n",
    "        w = whois.whois(domain_name)\n",
    "    except Exception:\n",
    "        return False\n",
    "    else:\n",
    "        return bool(w.domain_name)"
   ]
  },
  {
   "cell_type": "code",
   "execution_count": 5,
   "metadata": {},
   "outputs": [
    {
     "name": "stdout",
     "output_type": "stream",
     "text": [
      "thepythoncode.com is registered\n",
      "google.com is registered\n",
      "Error trying to connect to socket: closing socket\n",
      "github.com is registered\n",
      "unknownrandomdomain.com is not registered\n",
      "notregistered.co is not registered\n"
     ]
    }
   ],
   "source": [
    "# list of registered & non registered domains to test our function\n",
    "domains = [\n",
    "    \"thepythoncode.com\",\n",
    "    \"google.com\",\n",
    "    \"github.com\",\n",
    "    \"unknownrandomdomain.com\",\n",
    "    \"notregistered.co\"\n",
    "]\n",
    "# iterate over domains\n",
    "for domain in domains:\n",
    "    print(domain, \"is registered\" if is_registered(domain) else \"is not registered\")"
   ]
  },
  {
   "cell_type": "code",
   "execution_count": 7,
   "metadata": {},
   "outputs": [
    {
     "name": "stdout",
     "output_type": "stream",
     "text": [
      "domain 'varaplatform.com' is registered\n",
      "Domain registrar: Google LLC\n",
      "WHOIS server: whois.google.com\n",
      "Domain creation date: 2019-12-26 05:44:10\n",
      "Expiration date: 2021-12-26 05:44:10\n"
     ]
    }
   ],
   "source": [
    "domain_name = \"varaplatform.com\"\n",
    "if is_registered(domain_name):\n",
    "    print(f\"domain '{domain_name}' is registered\")\n",
    "    whois_info = whois.whois(domain_name)\n",
    "    print(\"Domain registrar:\", whois_info.registrar)\n",
    "    print(\"WHOIS server:\", whois_info.whois_server)\n",
    "    print(\"Domain creation date:\", whois_info.creation_date)\n",
    "    print(\"Expiration date:\", whois_info.expiration_date)"
   ]
  },
  {
   "cell_type": "code",
   "execution_count": 5,
   "metadata": {},
   "outputs": [
    {
     "name": "stdout",
     "output_type": "stream",
     "text": [
      "A23B0009320000\n",
      "ipc_part(code='A23', description='FOODS OR FOODSTUFFS; THEIR TREATMENT, NOT COVERED BY OTHER CLASSES')\n",
      "A23B 9/32\n"
     ]
    }
   ],
   "source": [
    "import wipo_ipc\n",
    "from wipo_ipc import Ipc # pip install wipo-ipc\n",
    "my_ipc = Ipc(\"A23B0009320000\")\n",
    "print(my_ipc.code) # 'A23B0009320000'\n",
    "print(my_ipc.classe)\n",
    "# ipc_part(code='A23', description='FOODS OR FOODSTUFFS; THEIR TREATMENT, NOT COVERED BY OTHER CLASSES')\n",
    "print(my_ipc.human_code)\n",
    "# 'A23B 9/32'"
   ]
  },
  {
   "cell_type": "code",
   "execution_count": 7,
   "metadata": {},
   "outputs": [],
   "source": [
    "wipo_ipc.ipc?"
   ]
  },
  {
   "cell_type": "code",
   "execution_count": null,
   "metadata": {},
   "outputs": [],
   "source": []
  }
 ],
 "metadata": {
  "kernelspec": {
   "display_name": "Python 3",
   "language": "python",
   "name": "python3"
  },
  "language_info": {
   "codemirror_mode": {
    "name": "ipython",
    "version": 3
   },
   "file_extension": ".py",
   "mimetype": "text/x-python",
   "name": "python",
   "nbconvert_exporter": "python",
   "pygments_lexer": "ipython3",
   "version": "3.8.3"
  }
 },
 "nbformat": 4,
 "nbformat_minor": 4
}
